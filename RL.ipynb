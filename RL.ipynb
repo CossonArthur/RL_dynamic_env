{
 "cells": [
  {
   "attachments": {},
   "cell_type": "markdown",
   "metadata": {},
   "source": [
    "# Reinforcement Learning - Dynamic environment"
   ]
  },
  {
   "cell_type": "code",
   "execution_count": 1,
   "metadata": {},
   "outputs": [],
   "source": [
    "## Librairies\n",
    "import numpy as np\n",
    "import matplotlib.pyplot as plt\n",
    "import random\n",
    "from scipy.special import softmax\n"
   ]
  },
  {
   "attachments": {},
   "cell_type": "markdown",
   "metadata": {},
   "source": [
    "## Parameters"
   ]
  },
  {
   "cell_type": "code",
   "execution_count": null,
   "metadata": {},
   "outputs": [],
   "source": [
    "# env configuration\n",
    "SIZE = 12\n",
    "HM_EPISODES = 600\n",
    "TIME = 2 * SIZE * SIZE\n",
    "\n",
    "# model parameters\n",
    "beta = 0.1\n",
    "epsilon = 0.1  # randomness\n",
    "EPS_DECAY = 0.99999999  # Every episode will be epsilon*EPS_DECAY\n",
    "LEARNING_RATE = 0.2\n",
    "DISCOUNT = 0.95\n",
    "proba_pitfall = 0.7\n",
    "fire_prob_spread = 0.3\n",
    "\n",
    "# rewards\n",
    "MOVE_PENALTY = 1\n",
    "WALL_PENALTY = 20000\n",
    "FIRE_PENALTY = 20\n",
    "PITFALL_PENALTY = 10\n",
    "SAVING_REWARD = 50\n",
    "ESCAPE_REWARD = 100\n",
    "\n",
    "# element of maze\n",
    "entrances = [(0,0)]\n",
    "exits = [(9,9)]\n",
    "allowed_moves = [(0, 1), (1, 0), (-1, 0), (0, -1)]"
   ]
  },
  {
   "attachments": {},
   "cell_type": "markdown",
   "metadata": {},
   "source": [
    "## Player class"
   ]
  },
  {
   "cell_type": "code",
   "execution_count": null,
   "metadata": {},
   "outputs": [],
   "source": [
    "class Player:\n",
    "    def __init__(self, coord):\n",
    "        self.x = coord[0]\n",
    "        self.y = coord[1]\n",
    "        self.cumulative_reward = 0\n",
    "        self.Q = np.zeros((SIZE, SIZE, len(allowed_moves)))\n",
    "        self.BestQ = None\n",
    "        self.best_reward = -np.inf\n",
    "\n",
    "    def get_coord(self):\n",
    "        return (self.x, self.y)\n",
    "\n",
    "    def set_coord(self, coord):\n",
    "        self.x, self.y = coord\n",
    "\n",
    "    def reset(self, coord, Q=None):\n",
    "        if not Q and self.best_reward < self.cumulative_reward:\n",
    "            self.best_reward = self.cumulative_reward\n",
    "            self.BestQ = np.copy(Q)\n",
    "\n",
    "        self.x = coord[0]\n",
    "        self.y = coord[1]\n",
    "        self.cumulative_reward = 0\n",
    "\n",
    "    def possible_moves(self):\n",
    "        moves = []\n",
    "        for i in range(len(allowed_moves)):\n",
    "            if (\n",
    "                self.x + allowed_moves[i][0] >= 0\n",
    "                and self.x + allowed_moves[i][0] < SIZE\n",
    "                and self.y + allowed_moves[i][1] >= 0\n",
    "                and self.y + allowed_moves[i][1] < SIZE\n",
    "            ):\n",
    "                moves.append(i)\n",
    "        return moves\n",
    "\n",
    "    def move(self, num):\n",
    "\n",
    "        self.x += allowed_moves[num][0]\n",
    "        self.y += allowed_moves[num][1]\n",
    "\n",
    "        # If player is out of bounds\n",
    "        if self.x < 0:\n",
    "            self.x = 0\n",
    "        elif self.x > SIZE - 1:\n",
    "            self.x = SIZE - 1\n",
    "\n",
    "        if self.y < 0:\n",
    "            self.y = 0\n",
    "        elif self.y > SIZE - 1:\n",
    "            self.y = SIZE - 1"
   ]
  },
  {
   "attachments": {},
   "cell_type": "markdown",
   "metadata": {},
   "source": [
    "## Environement "
   ]
  },
  {
   "cell_type": "code",
   "execution_count": null,
   "metadata": {},
   "outputs": [],
   "source": []
  }
 ],
 "metadata": {
  "kernelspec": {
   "display_name": "base",
   "language": "python",
   "name": "python3"
  },
  "language_info": {
   "codemirror_mode": {
    "name": "ipython",
    "version": 3
   },
   "file_extension": ".py",
   "mimetype": "text/x-python",
   "name": "python",
   "nbconvert_exporter": "python",
   "pygments_lexer": "ipython3",
   "version": "3.10.8"
  },
  "orig_nbformat": 4
 },
 "nbformat": 4,
 "nbformat_minor": 2
}
